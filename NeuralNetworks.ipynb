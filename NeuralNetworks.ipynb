{
  "nbformat": 4,
  "nbformat_minor": 0,
  "metadata": {
    "colab": {
      "name": "Assignment_7_NN.ipynb",
      "provenance": [],
      "collapsed_sections": []
    },
    "kernelspec": {
      "name": "python3",
      "display_name": "Python 3"
    },
    "accelerator": "GPU"
  },
  "cells": [
    {
      "cell_type": "markdown",
      "source": [
        "Lab 6 <br/>\n",
        "Jakob Persson 28h<br/>\n",
        "Steffanie Kristiansson 28h<br/>\n",
        "(half the time was spent waiting for the code to run .-.)"
      ],
      "metadata": {
        "id": "5v2E_2uUF1nr"
      }
    },
    {
      "cell_type": "code",
      "metadata": {
        "id": "N7Aer42gk1W9",
        "colab": {
          "base_uri": "https://localhost:8080/"
        },
        "outputId": "3e9139bd-33f0-4c8e-f33e-8fe022e87c6d"
      },
      "source": [
        "# imports\n",
        "import tensorflow\n",
        "from __future__ import print_function\n",
        "from tensorflow import keras\n",
        "import keras\n",
        "from keras.utils import np_utils\n",
        "from keras.datasets import mnist\n",
        "from keras.models import Sequential\n",
        "from keras.layers import Dense, Dropout, Flatten\n",
        "from keras.layers import Conv2D, MaxPooling2D\n",
        "from keras import backend as K\n",
        "from keras import optimizers\n",
        "import matplotlib.pyplot as plt\n",
        "import pandas as pd\n",
        "\n",
        "# Hyper-parameters data-loading and formatting\n",
        "batch_size = 128\n",
        "num_classes = 10\n",
        "epochs = 10\n",
        "\n",
        "# input image dimensions (images structured as 28 by 28 pixels)\n",
        "img_rows, img_cols = 28, 28\n",
        "\n",
        "# the data, split between train and test sets\n",
        "(x_train, y_train), (x_test, y_test) = mnist.load_data()\n",
        "\n",
        "# reshaping our data \n",
        "if K.image_data_format() == 'channels_first': # specifies which data-format-convention to follow\n",
        "    x_train = x_train.reshape(x_train.shape[0], 1, img_rows, img_cols)  \n",
        "    x_test = x_test.reshape(x_test.shape[0], 1, img_rows, img_cols)\n",
        "    input_shape = (1, img_rows, img_cols)\n",
        "else:\n",
        "    x_train = x_train.reshape(x_train.shape[0], img_rows, img_cols, 1)\n",
        "    x_test = x_test.reshape(x_test.shape[0], img_rows, img_cols, 1)\n",
        "    input_shape = (img_rows, img_cols, 1)\n",
        "\n",
        "# PREPROCESSING\n",
        "\n",
        "# (normalize pixel-values from grayscale (0->255) to a range between 0.0->1.0)\n",
        "# converting into 32 bit floats (most common)\n",
        "x_train = x_train.astype('float32')\n",
        "x_test = x_test.astype('float32')\n",
        "\n",
        "# 255 = maximumvalue of a byte\n",
        "x_train /= 255\n",
        "x_test /= 255\n",
        "\n",
        "# convert class vectors to binary class matrices \n",
        "# (ex. digit 2 in [0 1 2 3 4 5 6 7 8 9] to [0 0 1 0 0 0 0 0 0 0])\n",
        "y_train = keras.utils.np_utils.to_categorical(y_train, num_classes)\n",
        "y_test = keras.utils.np_utils.to_categorical(y_test, num_classes)\n",
        "\n",
        "## Define model ##\n",
        "model = Sequential()\n",
        "\n",
        "model.add(Flatten())\n",
        "model.add(Dense(125, activation = 'relu'))\n",
        "model.add(Dense(100, activation = 'relu'))\n",
        "model.add(Dense(50, activation = 'relu'))\n",
        "model.add(Dense(num_classes, activation='softmax'))\n",
        "\n",
        "\n",
        "model.compile(loss=keras.losses.categorical_crossentropy,\n",
        "               optimizer=tensorflow.keras.optimizers.SGD(lr = 0.1),\n",
        "               metrics=['accuracy'])\n",
        "\n",
        "fit_info = model.fit(x_train, y_train,\n",
        "           batch_size=batch_size,\n",
        "           epochs=epochs,\n",
        "           verbose=1,\n",
        "           validation_data=(x_test, y_test))\n",
        "score = model.evaluate(x_test, y_test, verbose=0)\n",
        "print('Test loss: {}, Test accuracy {}'.format(score[0], score[1]))\n",
        "print('Nr of layers: ',len(model.layers)) # get nr of layers (if not read how many model.add), OBS input-layer is counted\n",
        "\n",
        "print(model.summary())\n"
      ],
      "execution_count": null,
      "outputs": [
        {
          "output_type": "stream",
          "name": "stdout",
          "text": [
            "Downloading data from https://storage.googleapis.com/tensorflow/tf-keras-datasets/mnist.npz\n",
            "11493376/11490434 [==============================] - 0s 0us/step\n",
            "11501568/11490434 [==============================] - 0s 0us/step\n"
          ]
        },
        {
          "output_type": "stream",
          "name": "stderr",
          "text": [
            "/usr/local/lib/python3.7/dist-packages/keras/optimizer_v2/gradient_descent.py:102: UserWarning: The `lr` argument is deprecated, use `learning_rate` instead.\n",
            "  super(SGD, self).__init__(name, **kwargs)\n"
          ]
        },
        {
          "output_type": "stream",
          "name": "stdout",
          "text": [
            "Epoch 1/10\n",
            "469/469 [==============================] - 4s 4ms/step - loss: 0.4700 - accuracy: 0.8605 - val_loss: 0.2163 - val_accuracy: 0.9378\n",
            "Epoch 2/10\n",
            "469/469 [==============================] - 2s 3ms/step - loss: 0.1932 - accuracy: 0.9424 - val_loss: 0.1581 - val_accuracy: 0.9536\n",
            "Epoch 3/10\n",
            "469/469 [==============================] - 2s 3ms/step - loss: 0.1402 - accuracy: 0.9585 - val_loss: 0.1378 - val_accuracy: 0.9566\n",
            "Epoch 4/10\n",
            "469/469 [==============================] - 2s 4ms/step - loss: 0.1094 - accuracy: 0.9672 - val_loss: 0.1062 - val_accuracy: 0.9671\n",
            "Epoch 5/10\n",
            "469/469 [==============================] - 2s 3ms/step - loss: 0.0897 - accuracy: 0.9729 - val_loss: 0.1194 - val_accuracy: 0.9615\n",
            "Epoch 6/10\n",
            "469/469 [==============================] - 2s 3ms/step - loss: 0.0760 - accuracy: 0.9774 - val_loss: 0.0878 - val_accuracy: 0.9715\n",
            "Epoch 7/10\n",
            "469/469 [==============================] - 2s 3ms/step - loss: 0.0646 - accuracy: 0.9806 - val_loss: 0.0909 - val_accuracy: 0.9696\n",
            "Epoch 8/10\n",
            "469/469 [==============================] - 2s 3ms/step - loss: 0.0560 - accuracy: 0.9831 - val_loss: 0.0805 - val_accuracy: 0.9737\n",
            "Epoch 9/10\n",
            "469/469 [==============================] - 1s 3ms/step - loss: 0.0482 - accuracy: 0.9853 - val_loss: 0.0859 - val_accuracy: 0.9722\n",
            "Epoch 10/10\n",
            "469/469 [==============================] - 1s 3ms/step - loss: 0.0412 - accuracy: 0.9880 - val_loss: 0.0785 - val_accuracy: 0.9752\n",
            "Test loss: 0.07850897312164307, Test accuracy 0.9751999974250793\n",
            "Nr of layers:  5\n",
            "Model: \"sequential\"\n",
            "_________________________________________________________________\n",
            " Layer (type)                Output Shape              Param #   \n",
            "=================================================================\n",
            " flatten (Flatten)           (None, 784)               0         \n",
            "                                                                 \n",
            " dense (Dense)               (None, 125)               98125     \n",
            "                                                                 \n",
            " dense_1 (Dense)             (None, 100)               12600     \n",
            "                                                                 \n",
            " dense_2 (Dense)             (None, 50)                5050      \n",
            "                                                                 \n",
            " dense_3 (Dense)             (None, 10)                510       \n",
            "                                                                 \n",
            "=================================================================\n",
            "Total params: 116,285\n",
            "Trainable params: 116,285\n",
            "Non-trainable params: 0\n",
            "_________________________________________________________________\n",
            "None\n"
          ]
        }
      ]
    },
    {
      "cell_type": "markdown",
      "source": [
        "### Question 1) Auto-Encoder for denoising\n",
        "\n",
        "check comments in the code!"
      ],
      "metadata": {
        "id": "G6FJxTguHNVe"
      }
    },
    {
      "cell_type": "markdown",
      "source": [
        "### Question 2) Network model, training, and changing hyper-parameters\n"
      ],
      "metadata": {
        "id": "tw-i3h9onpS_"
      }
    },
    {
      "cell_type": "markdown",
      "source": [
        "2a) <br/>\n",
        "The network has 4 layers (5 if you conut the input layer), 1069 neurons. The first 3 dense layers have the Rectified Linear Unit activation function and the last dense layer has softmax as its activation function. \n",
        "\n",
        "Softmax takes a vector and converts it to a probability distribution. The documentation states that it's often used for the last layer of a classification network (our network is a classification network) because the result can be interpreted as a probability distribution. Thus, the softmax activation gives us the probability of an object having each label. \n",
        "\n",
        "\n",
        "ReLU activation is suitable since it overcomes the vanishing gradient problem, which allows the model to learn faster and perform better. \n",
        "\n",
        "The total number of parameters for the network is 116 285 (can also be outread from model.summary()).\n",
        "\n",
        "2b) <br/>\n",
        "The loss-function used is CategoricalCrossentropy, and the mathematical expression for it: <br/>\n",
        "$$CCE(p,t) = - \\sum_{c=1}^{C} t_{o,c}log(p_{o,c})$$ <br/>\n",
        "You iterate over all classes $C$, with two categorical inputs $p$ for prediction and $t$ for target. And by something being categorical it means, for the MNIST dataset, that each target must tell if it belongs to any possible class. As they say in the article, an observation  basically when each target- and prediction vector is inspected and used in the compution.\n",
        "\n",
        "(the article refered to)\n",
        "https://github.com/christianversloot/machine-learning-articles/blob/main/how-to-use-binary-categorical-crossentropy-with-keras.md\n"
      ],
      "metadata": {
        "id": "jihs2TJoHQD8"
      }
    },
    {
      "cell_type": "markdown",
      "source": [
        "2c)<br/>\n"
      ],
      "metadata": {
        "id": "ATAueQvA97Q2"
      }
    },
    {
      "cell_type": "code",
      "source": [
        "train_accuracy = fit_info.history['accuracy']\n",
        "val_accuracy = fit_info.history['val_accuracy']\n",
        "\n",
        "fig, ax = plt.subplots()\n",
        "train, = ax.plot(train_accuracy, label=\"Training accuracy\", linestyle='-')\n",
        "val_accuracy, = ax.plot(val_accuracy, label=\"Accuracy\", linestyle='-')\n",
        "first_legend = ax.legend(handles=[train], loc='lower center')\n",
        "ax.add_artist(first_legend)\n",
        "ax.legend(handles=[val_accuracy], loc='lower right')\n",
        "plt.ylabel('accuracy')\n",
        "plt.xlabel('epochs')\n",
        "plt.title('training and validation accuracy for each epochs')\n",
        "plt.show()"
      ],
      "metadata": {
        "colab": {
          "base_uri": "https://localhost:8080/",
          "height": 295
        },
        "id": "t10SP6uN97CI",
        "outputId": "99f30325-a374-4362-b024-f39b737c1af3"
      },
      "execution_count": null,
      "outputs": [
        {
          "output_type": "display_data",
          "data": {
            "image/png": "[encoded data removed]",
            "text/plain": [
              "<Figure size 432x288 with 1 Axes>"
            ]
          },
          "metadata": {
            "needs_background": "light"
          }
        }
      ]
    },
    {
      "cell_type": "markdown",
      "source": [
        "2d)<br/>\n"
      ],
      "metadata": {
        "id": "3_tNe0HIY0_P"
      }
    },
    {
      "cell_type": "code",
      "source": [
        "from copy import deepcopy as dp\n",
        "\n",
        "from keras.regularizers import l2\n",
        "import math\n",
        "import matplotlib.pyplot as plt\n",
        "import numpy as np\n",
        "\n",
        "\n",
        "def trainModel(epochs, regularizer):\n",
        "  model = Sequential()\n",
        "\n",
        "  model.add(Flatten())\n",
        "  model.add(Dense(500, activation = 'relu', activity_regularizer=l2(regularizer))) # hidden-layer\n",
        "  model.add(Dense(300, activation = 'relu', activity_regularizer=l2(regularizer))) # hidden-layer\n",
        "  model.add(Dense(num_classes, activation='softmax'))\n",
        "  \n",
        "  model.compile(loss=keras.losses.categorical_crossentropy,\n",
        "               optimizer=tensorflow.keras.optimizers.SGD(lr = 0.1),\n",
        "               metrics=['accuracy'])\n",
        "\n",
        "  fit_info = model.fit(x_train, y_train,\n",
        "           batch_size=batch_size,\n",
        "           epochs=epochs,\n",
        "           verbose=0,\n",
        "           validation_data=(x_test, y_test))\n",
        "  score = model.evaluate(x_test, y_test, verbose=0)\n",
        "  return score[1]\n",
        "\n",
        "acc = []\n",
        "\n",
        "def run():\n",
        "# to get everything in the right order in the array\n",
        "  for i in range(3):\n",
        "    acc.append(trainModel(40,0.001))\n",
        "    print(\"regulizer = \", 0.001,\" nr \",i+1)\n",
        "  for i in range(3):\n",
        "    acc.append(trainModel(40,0.0005))\n",
        "    print(\"regulizer = \", 0.0005,\" nr \",i+1)\n",
        "  for i in range(3):\n",
        "    acc.append(trainModel(40,0.0001))\n",
        "    print(\"regulizer = \", 0.0001,\" nr \",i+1)\n",
        "  for i in range(3):\n",
        "    acc.append(trainModel(40,0.00005))\n",
        "    print(\"regulizer = \", 0.00005,\" nr \",i+1)\n",
        "  for i in range(3):\n",
        "    acc.append(trainModel(40,0.000001))\n",
        "    print(\"regulizer = \", 0.000001,\" nr \",i+1)\n",
        "  return acc\n",
        "\n",
        "run()\n",
        "\n",
        "# y1 and y2 in the plot = average accuracy +/- a standard deviation \n",
        "\n",
        "def getDeviation(acc):\n",
        "  first = acc.pop()\n",
        "  second = acc.pop()\n",
        "  third = acc.pop()\n",
        "\n",
        "  average = (first + second + third)/3\n",
        "  deviation = math.sqrt((math.pow(first-average, 2) + math.pow(second-average, 2) + math.pow(third-average, 2))/2)\n",
        "  return deviation\n",
        "\n",
        "# copy of accuracy to future useage\n",
        "copyofAcc = dp(acc)\n",
        "\n",
        "# regularization factors\n",
        "x = [0.001,0.0005,0.0001,0.00005,0.000001] \n",
        "\n",
        "deviations = []\n",
        "for i in range(5):\n",
        "  deviations.append(getDeviation(acc))\n",
        "\n",
        "#reverse order of deviations\n",
        "reverseDev = []\n",
        "for i in range(5,0,-1):\n",
        "  reverseDev.append(deviations.pop())\n",
        "\n",
        "# get the average accuracy values in an array for plotting\n",
        "copyAvg = []\n",
        "for i in range(5):\n",
        "  first = copyofAcc.pop()\n",
        "  second = copyofAcc.pop()\n",
        "  third = copyofAcc.pop()\n",
        "\n",
        "  copyAvg.append((first + second + third)/3)\n",
        "\n",
        "# upper and lower values of accuracy (with deviation) in arrays\n",
        "y1 = []\n",
        "y2 = []\n",
        "for i in range(len(reverseDev)):\n",
        "  y1.append(copyAvg[i]+reverseDev[i])\n",
        "  y2.append(copyAvg[i]-reverseDev[i])\n",
        "\n",
        "# plotting\n",
        "plt.plot(x, copyAvg, marker='o', linestyle='-', label='Accuracy')\n",
        "plt.plot(x, y1, linestyle='--', label='Upper limit')\n",
        "plt.plot(x, y2, linestyle='--', label='Lower limit')\n",
        "\n",
        "plt.show()"
      ],
      "metadata": {
        "id": "XqOanInxxQDx",
        "colab": {
          "base_uri": "https://localhost:8080/",
          "height": 580
        },
        "outputId": "49cd7272-287e-475e-d9a2-de904f939bff"
      },
      "execution_count": null,
      "outputs": [
        {
          "output_type": "stream",
          "name": "stderr",
          "text": [
            "/usr/local/lib/python3.7/dist-packages/keras/optimizer_v2/gradient_descent.py:102: UserWarning: The `lr` argument is deprecated, use `learning_rate` instead.\n",
            "  super(SGD, self).__init__(name, **kwargs)\n"
          ]
        },
        {
          "output_type": "stream",
          "name": "stdout",
          "text": [
            "regulizer =  0.001  nr  1\n",
            "regulizer =  0.001  nr  2\n",
            "regulizer =  0.001  nr  3\n",
            "regulizer =  0.0005  nr  1\n",
            "regulizer =  0.0005  nr  2\n",
            "regulizer =  0.0005  nr  3\n",
            "regulizer =  0.0001  nr  1\n",
            "regulizer =  0.0001  nr  2\n",
            "regulizer =  0.0001  nr  3\n",
            "regulizer =  5e-05  nr  1\n",
            "regulizer =  5e-05  nr  2\n",
            "regulizer =  5e-05  nr  3\n",
            "regulizer =  1e-06  nr  1\n",
            "regulizer =  1e-06  nr  2\n",
            "regulizer =  1e-06  nr  3\n"
          ]
        },
        {
          "output_type": "display_data",
          "data": {
            "image/png": "[encoded data removed]",
            "text/plain": [
              "<Figure size 432x288 with 1 Axes>"
            ]
          },
          "metadata": {
            "needs_background": "light"
          }
        }
      ]
    },
    {
      "cell_type": "markdown",
      "source": [
        "Answer of last part in 2d) <br/>\n",
        "\n",
        "Our best value of the accuracy was \n",
        "\n",
        "Looking at the plot, we do get decently close to Hintons result, but do not quite reach it. It is possible that more epochs or a lower regularization factor could bump the accuracy up to Hintons level. In the text at http://yann.lecun.com/exdb/mnist/, which we assume is what the hint references to, there is no mention of number of epochs or regularization factors. Since the hint told us to think about what wasn't mentioned, our conclusion is that if we give the algorithm a lower regularization factor and more epochs we will get closer to Hintons result. "
      ],
      "metadata": {
        "id": "3c_SnCSzqHeS"
      }
    },
    {
      "cell_type": "markdown",
      "source": [
        "### Question 3) Convolutional layers\n"
      ],
      "metadata": {
        "id": "x5m3Cw_EnibW"
      }
    },
    {
      "cell_type": "markdown",
      "source": [
        "3a)   <br/>\n"
      ],
      "metadata": {
        "id": "Mnh6urI1n52z"
      }
    },
    {
      "cell_type": "code",
      "source": [
        "from keras import layers\n",
        "from keras.regularizers import l2\n",
        "import math\n",
        "import matplotlib.pyplot as plt\n",
        "import numpy as np\n",
        "\n",
        "num_classes = 10\n",
        "batch_size = 128\n",
        "epochs = 15\n",
        "regularizer = 0.00001\n",
        "\n",
        "\n",
        "model3 = keras.Sequential(\n",
        "      [\n",
        "       keras.Input(shape=input_shape),\n",
        "       layers.Conv2D(filters=32, kernel_size=(3, 3), activation=\"relu\"),\n",
        "       #layers.MaxPooling2D(pool_size=(2, 2)),\n",
        "       layers.Conv2D(filters=64, kernel_size=(3, 3), activation=\"relu\"),\n",
        "       #layers.MaxPooling2D(pool_size=(2, 2)),\n",
        "       layers.Flatten(),\n",
        "       layers.Dropout(0.5),\n",
        "       layers.Dense(500, activation = 'relu', activity_regularizer=l2(regularizer)),\n",
        "       layers.Dense(300, activation = 'relu', activity_regularizer=l2(regularizer)),\n",
        "       layers.Dense(num_classes, activation=\"softmax\")\n",
        "      ]\n",
        "  )\n",
        "\n",
        "model3.compile(loss=\"categorical_crossentropy\", optimizer=\"adam\", metrics=[\"accuracy\"])\n",
        "\n",
        "model3.fit(x_train, y_train, batch_size=batch_size, epochs=epochs, validation_split=0.1)\n",
        "  \n",
        "score = model3.evaluate(x_test, y_test, verbose=0)\n",
        "\n",
        "print(\"Test loss:\", score[0])\n",
        "print(\"Test accuracy:\", score[1])"
      ],
      "metadata": {
        "colab": {
          "base_uri": "https://localhost:8080/"
        },
        "id": "eR6UEZt_VJcz",
        "outputId": "a6133e4a-247f-4f9b-8e48-a39fade34f69"
      },
      "execution_count": null,
      "outputs": [
        {
          "output_type": "stream",
          "name": "stdout",
          "text": [
            "Epoch 1/15\n",
            "422/422 [==============================] - 48s 112ms/step - loss: 0.2287 - accuracy: 0.9299 - val_loss: 0.0535 - val_accuracy: 0.9865\n",
            "Epoch 2/15\n",
            "422/422 [==============================] - 47s 112ms/step - loss: 0.0725 - accuracy: 0.9782 - val_loss: 0.0387 - val_accuracy: 0.9890\n",
            "Epoch 3/15\n",
            "422/422 [==============================] - 46s 108ms/step - loss: 0.0520 - accuracy: 0.9846 - val_loss: 0.0360 - val_accuracy: 0.9897\n",
            "Epoch 4/15\n",
            "422/422 [==============================] - 46s 109ms/step - loss: 0.0443 - accuracy: 0.9869 - val_loss: 0.0299 - val_accuracy: 0.9910\n",
            "Epoch 5/15\n",
            "422/422 [==============================] - 46s 108ms/step - loss: 0.0377 - accuracy: 0.9891 - val_loss: 0.0292 - val_accuracy: 0.9928\n",
            "Epoch 6/15\n",
            "422/422 [==============================] - 46s 108ms/step - loss: 0.0329 - accuracy: 0.9902 - val_loss: 0.0323 - val_accuracy: 0.9910\n",
            "Epoch 7/15\n",
            "422/422 [==============================] - 46s 108ms/step - loss: 0.0289 - accuracy: 0.9913 - val_loss: 0.0259 - val_accuracy: 0.9932\n",
            "Epoch 8/15\n",
            "422/422 [==============================] - 45s 108ms/step - loss: 0.0263 - accuracy: 0.9922 - val_loss: 0.0260 - val_accuracy: 0.9930\n",
            "Epoch 9/15\n",
            "422/422 [==============================] - 46s 108ms/step - loss: 0.0233 - accuracy: 0.9932 - val_loss: 0.0274 - val_accuracy: 0.9927\n",
            "Epoch 10/15\n",
            "422/422 [==============================] - 45s 107ms/step - loss: 0.0229 - accuracy: 0.9927 - val_loss: 0.0306 - val_accuracy: 0.9908\n",
            "Epoch 11/15\n",
            "422/422 [==============================] - 45s 108ms/step - loss: 0.0209 - accuracy: 0.9941 - val_loss: 0.0266 - val_accuracy: 0.9942\n",
            "Epoch 12/15\n",
            "422/422 [==============================] - 45s 107ms/step - loss: 0.0189 - accuracy: 0.9946 - val_loss: 0.0304 - val_accuracy: 0.9918\n",
            "Epoch 13/15\n",
            "422/422 [==============================] - 45s 108ms/step - loss: 0.0177 - accuracy: 0.9950 - val_loss: 0.0282 - val_accuracy: 0.9927\n",
            "Epoch 14/15\n",
            "422/422 [==============================] - 45s 108ms/step - loss: 0.0172 - accuracy: 0.9947 - val_loss: 0.0267 - val_accuracy: 0.9928\n",
            "Epoch 15/15\n",
            "422/422 [==============================] - 45s 107ms/step - loss: 0.0171 - accuracy: 0.9951 - val_loss: 0.0273 - val_accuracy: 0.9938\n",
            "Test loss: 0.02438502013683319\n",
            "Test accuracy: 0.9936000108718872\n"
          ]
        }
      ]
    },
    {
      "cell_type": "markdown",
      "source": [
        "Discussion on 3a and b: <br/>\n",
        "Our best result, from having the same layers as before plus some convolutional layers, was 0.9909.<br/>\n",
        "\n",
        "We also tried with two layers of maxPooling2D (out-commented) which gave the accuracy of 0.9936, and it was faster too. They point of having maxpooling2D is to help over-fitting by providing an abstracted form of the representation whilst it also reduces the computional cost (reduces nr of parameters). <br/>\n",
        "\n",
        "According to https://medium.com/swlh/fully-connected-vs-convolutional-neural-networks-813ca7bc6ee5 the convolutional layers take longer to train but *are trained to identify and extract the best features*, which results in better accuracy. So if your after the best possible result you should use or include some CNN layers, but if you just want a fast and approximatley accurate accuracy fully connected NN works just fine. "
      ],
      "metadata": {
        "id": "xjTxgZPmeE-F"
      }
    },
    {
      "cell_type": "markdown",
      "source": [
        "### Question 4) Auto-Encoder for denoising\n"
      ],
      "metadata": {
        "id": "VoFFyg6hWXEW"
      }
    },
    {
      "cell_type": "code",
      "source": [
        "\n",
        "import numpy as np\n",
        "def salt_and_pepper(input, noise_level=0.5):\n",
        "    \"\"\"\n",
        "    This applies salt and pepper noise to the input tensor - randomly setting bits to 1 or 0.\n",
        "    Parameters\n",
        "    ----------\n",
        "    input : tensor\n",
        "        The tensor to apply salt and pepper noise to.\n",
        "    noise_level : float\n",
        "        The amount of salt and pepper noise to add.\n",
        "    Returns\n",
        "    -------\n",
        "    tensor\n",
        "        Tensor with salt and pepper noise applied.\n",
        "    \"\"\"\n",
        "    # salt and pepper noise\n",
        "    a = np.random.binomial(size=input.shape, n=1, p=(1 - noise_level))\n",
        "    b = np.random.binomial(size=input.shape, n=1, p=0.5)\n",
        "    c = (a==0) * b\n",
        "    return input * a + c\n",
        "\n",
        "\n",
        "def run(noise):\n",
        "  #data preparation\n",
        "  flattened_x_train = x_train.reshape(-1,784)\n",
        "  flattened_x_train_seasoned = salt_and_pepper(flattened_x_train, noise_level=noise)\n",
        "\n",
        "  flattened_x_test = x_test.reshape(-1,784)\n",
        "  flattened_x_test_seasoned = salt_and_pepper(flattened_x_test, noise_level=noise)\n",
        "\n",
        "\n",
        "  latent_dim = 96  \n",
        "\n",
        "  input_image = keras.Input(shape=(784,))\n",
        "  encoded = Dense(128, activation='relu')(input_image)\n",
        "  encoded = Dense(latent_dim, activation='relu')(encoded)\n",
        "  decoded = Dense(128, activation='relu')(encoded)\n",
        "  decoded = Dense(784, activation='sigmoid')(decoded)\n",
        "\n",
        "  autoencoder = keras.Model(input_image, decoded)\n",
        "  encoder_only = keras.Model(input_image, encoded)\n",
        "\n",
        "  encoded_input = keras.Input(shape=(latent_dim,))\n",
        "  decoder_layer = Sequential(autoencoder.layers[-2:])\n",
        "  decoder = keras.Model(encoded_input, decoder_layer(encoded_input))\n",
        "\n",
        "  autoencoder.compile(optimizer='adam', loss='binary_crossentropy')\n",
        "\n",
        "  autoencoder.fit(flattened_x_train_seasoned, flattened_x_train,\n",
        "                    epochs=32,\n",
        "                    batch_size=64,\n",
        "                    shuffle=True,\n",
        "                    verbose=0,\n",
        "                    validation_data=(flattened_x_test_seasoned, flattened_x_test))\n",
        "\n",
        "  k = 2\n",
        "  fig, axs = plt.subplots(1,3,figsize=(10,15))\n",
        "  sample1 = x_test[k]\n",
        "  sample2 = autoencoder.predict(flattened_x_test_seasoned)\n",
        "  sample3 = flattened_x_test_seasoned[k].reshape(28,28)\n",
        "  axs[0].imshow(sample1.reshape(28,28), cmap = 'gray')\n",
        "  axs[2].imshow(sample2[k].reshape(28,28), cmap = 'gray')\n",
        "  axs[1].imshow(sample3, cmap = 'gray')\n",
        "\n",
        "# quick little loop to generate examples with different noise levels\n",
        "n = 0\n",
        "while n < 1:\n",
        "  n += 0.2\n",
        "  print(\"current salt level:\", n)\n",
        "  run(n)\n"
      ],
      "metadata": {
        "id": "UYyDCf5eWYD2",
        "colab": {
          "base_uri": "https://localhost:8080/",
          "height": 1000
        },
        "outputId": "9ed57d76-37c0-4f1d-d37e-ab520a7deb07"
      },
      "execution_count": null,
      "outputs": [
        {
          "output_type": "stream",
          "name": "stdout",
          "text": [
            "current salt level: 0.2\n",
            "current salt level: 0.4\n",
            "current salt level: 0.6000000000000001\n",
            "current salt level: 0.8\n",
            "current salt level: 1.0\n"
          ]
        },
        {
          "output_type": "display_data",
          "data": {
            "image/png": "[encoded data removed]",
            "text/plain": [
              "<Figure size 720x1080 with 3 Axes>"
            ]
          },
          "metadata": {
            "needs_background": "light"
          }
        },
        {
          "output_type": "display_data",
          "data": {
            "image/png": "[encoded data removed]",
            "text/plain": [
              "<Figure size 720x1080 with 3 Axes>"
            ]
          },
          "metadata": {
            "needs_background": "light"
          }
        },
        {
          "output_type": "display_data",
          "data": {
            "image/png": "[encoded data removed]",
            "text/plain": [
              "<Figure size 720x1080 with 3 Axes>"
            ]
          },
          "metadata": {
            "needs_background": "light"
          }
        },
        {
          "output_type": "display_data",
          "data": {
            "image/png": "[encoded data removed]",
            "text/plain": [
              "<Figure size 720x1080 with 3 Axes>"
            ]
          },
          "metadata": {
            "needs_background": "light"
          }
        },
        {
          "output_type": "display_data",
          "data": {
            "image/png": "[encoded data removed]",
            "text/plain": [
              "<Figure size 720x1080 with 3 Axes>"
            ]
          },
          "metadata": {
            "needs_background": "light"
          }
        }
      ]
    },
    {
      "cell_type": "markdown",
      "source": [
        "4a) <br/>\n",
        "In the data-preparation it first flattens the image to a 1-D vector of 784 features (28*28). In the next step, \"seasoned\" train and test sets are created, in other words duplicates of \"unseasoned\" x_train and x_test are created and then seasoned with noise. Then the needed layers are added to the model, that means an input layer, layers for encoding and finally layers for decoding, and also an output layer. Finally the model is validated with the seasoned and unseasoned x_test sets to see how well the denoising went. \n",
        "\n",
        "Number of nodes is given by latent_dim. \n",
        "\n",
        "The role of the loss function is finding the distance between current and expected output. So i.e. a machine learns through a loss function."
      ],
      "metadata": {
        "id": "0OxCUarzdfwp"
      }
    },
    {
      "cell_type": "markdown",
      "source": [
        "4b) <br/>\n",
        "For us humans, when the noise level grew larger and started approaching 0.6 it became hard/unreliable to determine the correct number. Towards noise=0.8 and higher the denoising, most numbers turned into other numbers, as an example, the number 4 started to appear like a 9. This also depends on the digit chosen, if the shape is more complex than the shape of a 1, that was chosen in this example it is likely that the noise level where it becomes impossible to determine the correct number for a human decreases. \n"
      ],
      "metadata": {
        "id": "iz1wZ3uI1NkL"
      }
    },
    {
      "cell_type": "code",
      "source": [
        "# For question 4c\n",
        "\n",
        "def salt_and_pepper(input, noise_level=0.5):\n",
        "    \"\"\"\n",
        "    This applies salt and pepper noise to the input tensor - randomly setting bits to 1 or 0.\n",
        "    Parameters\n",
        "    ----------\n",
        "    input : tensor\n",
        "        The tensor to apply salt and pepper noise to.\n",
        "    noise_level : float\n",
        "        The amount of salt and pepper noise to add.\n",
        "    Returns\n",
        "    -------\n",
        "    tensor\n",
        "        Tensor with salt and pepper noise applied.\n",
        "    \"\"\"\n",
        "    # salt and pepper noise\n",
        "    a = np.random.binomial(size=input.shape, n=1, p=(1 - noise_level))\n",
        "    b = np.random.binomial(size=input.shape, n=1, p=0.5)\n",
        "    c = (a==0) * b\n",
        "    return input * a + c\n",
        "\n",
        "#data preparation\n",
        "flattened_x_train = x_train.reshape(-1,784)\n",
        "flattened_x_train_seasoned = salt_and_pepper(flattened_x_train, noise_level=0.4)\n",
        "\n",
        "flattened_x_test = x_test.reshape(-1,784)\n",
        "flattened_x_test_seasoneed = salt_and_pepper(flattened_x_test, noise_level=0.4)\n",
        "\n",
        "latent_dim = 96  \n",
        "\n",
        "input_image = keras.Input(shape=(784,))\n",
        "encoded = Dense(128, activation='relu')(input_image)\n",
        "encoded = Dense(latent_dim, activation='relu')(encoded)\n",
        "decoded = Dense(128, activation='relu')(encoded)\n",
        "decoded = Dense(784, activation='sigmoid')(decoded)\n",
        "\n",
        "autoencoder = keras.Model(input_image, decoded)\n",
        "encoder_only = keras.Model(input_image, encoded)\n",
        "\n",
        "encoded_input = keras.Input(shape=(latent_dim,))\n",
        "decoder_layer = Sequential(autoencoder.layers[-2:])\n",
        "decoder = keras.Model(encoded_input, decoder_layer(encoded_input))\n",
        "\n",
        "autoencoder.compile(optimizer='adam', loss='binary_crossentropy')\n",
        "\n",
        "autoencoder.fit(flattened_x_train_seasoned, flattened_x_train,\n",
        "                    epochs=32,\n",
        "                    batch_size=64,\n",
        "                    shuffle=True,\n",
        "                    verbose=0,\n",
        "                    validation_data=(flattened_x_test_seasoneed, flattened_x_test))\n",
        "\n",
        "\n",
        "scores_denoise = []\n",
        "scores = []\n",
        "i = 0\n",
        "# Looping through all the different noises choosen (0.2, 0.4, 0.6, 0.8, 1.0)\n",
        "while i < 1:\n",
        "  i += 0.2\n",
        "  \n",
        "  # reshaping and etc to handle the values\n",
        "  flattened_x_test_seasoneed = salt_and_pepper(flattened_x_test,i)\n",
        "  seasoned_test = autoencoder.predict(flattened_x_test_seasoneed)\n",
        "  seasoned_test_reshaped = seasoned_test.reshape(len(seasoned_test), 28, 28, 1)\n",
        "  seasoned_test_score = model3.evaluate(seasoned_test_reshaped, y_test, verbose=0)\n",
        "\n",
        "  x_test_reshaped = flattened_x_test_seasoneed.reshape(len(flattened_x_test_seasoneed), 28, 28, 1)\n",
        "  x_test_score = model3.evaluate(x_test_reshaped, y_test, verbose=0)\n",
        "\n",
        "  scores_denoise.append(seasoned_test_score[1])\n",
        "  scores.append(x_test_score[1])\n",
        "\n",
        "  \n",
        "# printing the array of all the noise-values for denoised/seasoned\n",
        "print(scores_denoise)\n",
        "print(scores)\n",
        "\n",
        "# plotting the results \n",
        "fig, ax = plt.subplots()\n",
        "denoise, = ax.plot(scores_denoise, label=\"Denoised\", linestyle='-')\n",
        "seasoned, = ax.plot(scores, label=\"Seasoned\", linestyle='-')\n",
        "first_legend = ax.legend(handles=[denoise], loc='upper center')\n",
        "ax.add_artist(first_legend)\n",
        "ax.legend(handles=[seasoned], loc='upper right')\n",
        "plt.ylabel('True-positive rate')\n",
        "plt.xlabel('Noise-level')\n",
        "plt.title('True-positive rate as a function of noise-level')\n",
        "plt.show()\n"
      ],
      "metadata": {
        "id": "_ELI2rZ5dBlX",
        "colab": {
          "base_uri": "https://localhost:8080/",
          "height": 330
        },
        "outputId": "fb816da6-12d6-434c-9877-c397e45abf37"
      },
      "execution_count": null,
      "outputs": [
        {
          "output_type": "stream",
          "name": "stdout",
          "text": [
            "[0.9430000185966492, 0.9196000099182129, 0.7315000295639038, 0.31360000371932983, 0.09510000050067902]\n",
            "[0.8079000115394592, 0.38760000467300415, 0.149399995803833, 0.11020000278949738, 0.09560000151395798]\n"
          ]
        },
        {
          "output_type": "display_data",
          "data": {
            "image/png": "[encoded data removed]",
            "text/plain": [
              "<Figure size 432x288 with 1 Axes>"
            ]
          },
          "metadata": {
            "needs_background": "light"
          }
        }
      ]
    },
    {
      "cell_type": "markdown",
      "source": [
        "4c) <br/>\n",
        "The yellow graph shows the true-positive rate for images which are passed directly to the model for evaluation, and the blue graph shows the true-positive rate for images on which the autoencoder is used. There is a significant difference in the true-positive rates between the two, which suggests that an autoencoder like the one used in this assignment is a strong/useful tool that can be used to increase the accuracy of not the model directly, but the result of the model. An interesting aspect shown by the graphs is that the true-positive rates end up at the same value, which suggests that there is a breakpoint where the numbers become impossible to classify correctly even when denoising them first. "
      ],
      "metadata": {
        "id": "yYt2KxPH83ua"
      }
    },
    {
      "cell_type": "markdown",
      "source": [
        "4d) <br/>\n",
        "If we add noise to an image with the salt and pepper method, or any other method to add noise, and then pass it through the autoencoder, the resulting image will be ever-so-slightly different from the original. This means that the autoencoder has generated its own synthetic handwritten digit. Since the algorithms used are not deterministic each output will be different. Examples of this is shown in part 4b of the assignment where the result at varying noise levels are different to one another. It should also be noted that it is the decoder that uncompresses the original image and therefore generates the final result. Furthermore, even if the digit passed through the autoencoder with some added noise is perfect originally, the decoder will always add artifacts to the final result. "
      ],
      "metadata": {
        "id": "ANcgP-42U4GJ"
      }
    }
  ]
}